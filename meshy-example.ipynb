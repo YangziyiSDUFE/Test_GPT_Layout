{
 "cells": [
  {
   "metadata": {
    "ExecuteTime": {
     "end_time": "2024-06-15T08:19:38.673954Z",
     "start_time": "2024-06-15T08:19:38.669875Z"
    }
   },
   "cell_type": "code",
   "source": "API_KEY=",
   "id": "fbc121e30a2defb3",
   "outputs": [],
   "execution_count": 3
  },
  {
   "metadata": {
    "ExecuteTime": {
     "end_time": "2024-06-15T08:19:40.687205Z",
     "start_time": "2024-06-15T08:19:39.353191Z"
    }
   },
   "cell_type": "code",
   "source": [
    "# 生成mesh\n",
    "import requests\n",
    "\n",
    "payload = {\n",
    "    \"mode\": \"preview\",\n",
    "    \"prompt\": \"a monster mask\",\n",
    "    \"art_style\": \"realistic\",\n",
    "    \"negative_prompt\": \"low quality, low resolution, low poly, ugly\"\n",
    "}\n",
    "headers = {\n",
    "    \"Authorization\": f\"Bearer {API_KEY}\"\n",
    "}\n",
    "\n",
    "mesh_id = requests.post(\n",
    "    \"https://api.meshy.ai/v2/text-to-3d\",\n",
    "    headers=headers,\n",
    "    json=payload,\n",
    ")\n",
    "mesh_id.raise_for_status()\n",
    "print(mesh_id.json())\n"
   ],
   "id": "2f61a0d9447272c6",
   "outputs": [
    {
     "name": "stdout",
     "output_type": "stream",
     "text": [
      "{'result': '01901afb-10d0-70f5-adca-7de3c03e3577'}\n"
     ]
    }
   ],
   "execution_count": 4
  },
  {
   "metadata": {
    "ExecuteTime": {
     "end_time": "2024-06-15T08:21:18.728661Z",
     "start_time": "2024-06-15T08:21:18.187753Z"
    }
   },
   "cell_type": "code",
   "source": [
    "# 获取下载链接\n",
    "# 格式包括：glb, fbx, obj, mtl, usdz\n",
    "import requests\n",
    "\n",
    "task_id = \"01901afb-10d0-70f5-adca-7de3c03e3577\"\n",
    "# task_id= response.json()[\"result\"]\n",
    "headers = {\n",
    "    \"Authorization\": f\"Bearer {API_KEY}\"\n",
    "}\n",
    "\n",
    "model_urls = requests.get(\n",
    "    f\"https://api.meshy.ai/v2/text-to-3d/{task_id}\",\n",
    "    headers=headers,\n",
    ")\n",
    "model_urls.raise_for_status()\n",
    "print(model_urls.json())"
   ],
   "id": "6b2be991e4120952",
   "outputs": [
    {
     "name": "stdout",
     "output_type": "stream",
     "text": [
      "{'id': '01901afb-10d0-70f5-adca-7de3c03e3577', 'mode': 'preview', 'name': '', 'seed': 1718439579, 'art_style': 'realistic', 'texture_richness': '', 'prompt': 'a monster mask', 'negative_prompt': 'low quality, low resolution, low poly, ugly', 'status': 'SUCCEEDED', 'created_at': 1718439580681, 'progress': 100, 'started_at': 1718439580937, 'finished_at': 1718439632293, 'task_error': None, 'model_urls': {'glb': 'https://assets.meshy.ai/225dc722-dee2-4951-8b48-6651efa15f90/tasks/01901afb-10d0-70f5-adca-7de3c03e3577/output/model.glb?Expires=4872009600&Signature=Runx7ojItTCpXKEirdLYDAZ7ftw~QeArI5CAyewL98lC5R9jHY1kc9luGsknyMhYfUqDjwZkRIc4gEi-Em2hnq1hn~2mMZN-rwGCM3PZUrcwPaui3-OkPpECzzgcp3PNrwBz-0eneJONL2N1B0GKlR34oF8bnnrZYurOA9WHvg5D-8rWx5GmlzcoVJyDbQsB7~X8AbCWRAe9B6vYBFx91PwrSwIsQ-Y44E3HR3DKpaAg63GPqpCUOnX8iyS8dLa6GhkjvbYTHPo3wOc2HmQiLK~Z-krx6011SM7eetzytuMrBFdTpyfZIWRqgZJRCfP5JRN0AA5~OGzTgeTpwwPlrA__&Key-Pair-Id=KL5I0C8H7HX83', 'fbx': 'https://assets.meshy.ai/225dc722-dee2-4951-8b48-6651efa15f90/tasks/01901afb-10d0-70f5-adca-7de3c03e3577/output/model.fbx?Expires=4872009600&Signature=Jfkyisu8UETu4PUozjpN50Ce-N9G37eS6P8icCUn0Cl9zxYC6tzkUIsanbKJD0AyMq4l67qZzEp~fnvCN306WMhXrVj1X8yP6xaskoVibQTjJRT7lwEwM9F7sG7dCWDGnz8XNHQMxyFy0yd-e6QJZKehUSLTv213sAi7zC2855fSEB7oBDtgELe1x8MZ~FctK7Lrb~yDFcHsnmZ92wuSSbVUEqwTP76R-YulBs8Say3d3VWKjvEE6G~sg~xm7y36gUdnDwyyHrd0o1LrEu4-bJpQgspXHsOb~~c3K3xR2nC1~5ksgNpXUZBYWOrruIzPtPt4JqgXBWgLQPNnWO7cYw__&Key-Pair-Id=KL5I0C8H7HX83', 'usdz': 'https://assets.meshy.ai/225dc722-dee2-4951-8b48-6651efa15f90/tasks/01901afb-10d0-70f5-adca-7de3c03e3577/output/model.usdz?Expires=4872009600&Signature=PjlRkTalJdVX0JysYZSxGIf2VujBw83nqfnf4zd-PJMjzi71oZA0HmFs8e4mrv0qDOCkhtvwGm6zc6H19FEJeVQABIUhr2R1~nHjr-bKvdosGpWpiJJhux3kWIBKxH8JHXk8kG0ITk6BQY5tVNQYPSK9vVsRUTADxb2RqF5yC42R1sX5xNYu9QRLfVRThzlWPaVsBBg5LYdUHXMRxM~noyq72Tn0YtLoZZKw91kBbwIxVaVGuxAAvtdzfVXRdLes893p30jBnOYLSRDk8-HX4FxtTGEymNrd2ma-RzTVB-~P-Y2rKLIjzPglZHjvlCMf36c6uAtthzSgehEeczcLJg__&Key-Pair-Id=KL5I0C8H7HX83', 'obj': 'https://assets.meshy.ai/225dc722-dee2-4951-8b48-6651efa15f90/tasks/01901afb-10d0-70f5-adca-7de3c03e3577/output/model.obj?Expires=4872009600&Signature=jfSTPFrjw5FN6RapT~Vm3muhuaJtHU7lU3a7nrYiN-05WPIMp5PYX-5IamnLLOvCwsz5ucb-BuyrKDdPPcflX0X0fMoqXjVocREh0P-7KUVfj63Xl3tJ3ST~opvTdznW8jFGLiHzXS6iCASZ9n4Sm59ci7l7JUmzax0DZslNDjtnPT5UUpZspky3hfB-Frldd0cruSoXkH6yAsK9RVJOzfq0YGtSfsp8mTuPjG6QVOAMGIdgs-vsIdup5rBMDyJgig2QSS~13BvyAVMkgW5qkDyxswUM73vpokK4omNFGXCUw9unwA-C9ACP~fk2eDZVwAbAc1mOz1v4Bt5hM2QXwQ__&Key-Pair-Id=KL5I0C8H7HX83', 'mtl': 'https://assets.meshy.ai/225dc722-dee2-4951-8b48-6651efa15f90/tasks/01901afb-10d0-70f5-adca-7de3c03e3577/output/model.mtl?Expires=4872009600&Signature=GgtX~FmEr7wH2OKFUW1WrCDHNTGaW3csExyLz35IEI2bllYOz9QOtpxImiHQrn8fWHH8WSiFr8yZb-ddDMfV4JzPQXGmZEwjOFRsNv1sCI8xGNm8fJ-AJX9lRVW4WnQQ-S09~SY1zoBveOKC~sxWzGWWKIqBlddxAORBVGV9akxSswpcxRsZri9eWM7aHDfQRKkz5zAE5gxnW89Zu2mbsDj~nEt69ZHj5UOo7qlh2~LpmGNVVGD78bKOdeR-6zQxbpP2E1gglLuqYbK7xtC-wYGpv1gyE5ap-GyGViR5Wzv086fDbjONzbpnZ~y1XEQXqrFicB4tnIzFgYbmSRvXIA__&Key-Pair-Id=KL5I0C8H7HX83'}, 'thumbnail_url': 'https://assets.meshy.ai/225dc722-dee2-4951-8b48-6651efa15f90/tasks/01901afb-10d0-70f5-adca-7de3c03e3577/output/preview.png?Expires=4872009600&Signature=XMjwUXjix4o9Viywhj~XqzwBTepkD0Ddi~v~9ABZyHrEJL9lhxa295d2Uc6VqZblYMBWklI1oe~lRkX~8rttjq-u-qe7IVR3cwzFIuqDLnNvbIqqQYUQBAGRqiZyjLL4v-fzryJVRj~ps7PhEUbNTBJZ7O2NK8U01kiznPpiR9xSHAEta4dwowEMNX9BXfdpEakYHgKiVYE2TE6cianDBYmeBYtx5Jbgh-aIFYig8EJqM7xe~HbikhuqHuAXVdTZca1BB0kZPYp2haUxjo-IoVycI62Lcgf09ZISA2Eo3D8X~voaSIRkLR2aJkY9bq-jrT4AoTsXZH4rnQD3QXvxuw__&Key-Pair-Id=KL5I0C8H7HX83', 'video_url': 'https://assets.meshy.ai/225dc722-dee2-4951-8b48-6651efa15f90/tasks/01901afb-10d0-70f5-adca-7de3c03e3577/output/output.mp4?Expires=4872009600&Signature=puc8-nZpze6tVKaSu~f9dKoznDrqOysNp60BlBkyqtkAKcsyUzXmhliMAUhsw7ERbGKk5wxlYMKwSEHMXBE7d439-v5~tXKExNR9PKfBceGaV9njdI1ysTZu0HkkweJzcUU9zPr53Y3pTwRxiLiRXhdQbtlmoz6ir4BMnXS9FIYpp3kPs0raES5wvP9-XV5eh-to1vbw0Ku4lk10chySWnBQx~bIfLdF9R665Y3orC5od6oH3LYHLAtp0uvH5pfILkmV8jA-AqaR0YpYDm~vJzlbidMUtwKyQKy7BmZZvAw8mtUk9qIQSLO0D2q0qW1ojO5X76~S2hKOVR7zrPd0dQ__&Key-Pair-Id=KL5I0C8H7HX83', 'texture_urls': []}\n"
     ]
    }
   ],
   "execution_count": 5
  },
  {
   "metadata": {
    "ExecuteTime": {
     "end_time": "2024-06-15T08:36:51.768558Z",
     "start_time": "2024-06-15T08:36:47.771183Z"
    }
   },
   "cell_type": "code",
   "source": [
    "# 下载mesh\n",
    "# 例如obj格式\n",
    "import urllib.request\n",
    "url = model_urls.json()[\"model_urls\"][\"obj\"]\n",
    "urllib.request.urlretrieve(url, \"./data/example.obj\")"
   ],
   "id": "802f0fda18198807",
   "outputs": [
    {
     "data": {
      "text/plain": [
       "('./data/example.obj', <http.client.HTTPMessage at 0x108c7ad40>)"
      ]
     },
     "execution_count": 6,
     "metadata": {},
     "output_type": "execute_result"
    }
   ],
   "execution_count": 6
  },
  {
   "metadata": {},
   "cell_type": "code",
   "outputs": [],
   "execution_count": null,
   "source": "",
   "id": "d4c90be648eba07a"
  }
 ],
 "metadata": {
  "kernelspec": {
   "display_name": "Python 3",
   "language": "python",
   "name": "python3"
  },
  "language_info": {
   "codemirror_mode": {
    "name": "ipython",
    "version": 2
   },
   "file_extension": ".py",
   "mimetype": "text/x-python",
   "name": "python",
   "nbconvert_exporter": "python",
   "pygments_lexer": "ipython2",
   "version": "2.7.6"
  }
 },
 "nbformat": 4,
 "nbformat_minor": 5
}
