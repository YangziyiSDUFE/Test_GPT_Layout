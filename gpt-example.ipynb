{
 "cells": [
  {
   "metadata": {
    "ExecuteTime": {
     "end_time": "2024-06-13T09:12:48.264520Z",
     "start_time": "2024-06-13T09:12:48.259761Z"
    }
   },
   "cell_type": "code",
   "source": [
    "import wave\n",
    "import struct\n",
    "import os"
   ],
   "id": "fbc121e30a2defb3",
   "outputs": [],
   "execution_count": 16
  },
  {
   "metadata": {
    "ExecuteTime": {
     "end_time": "2024-06-13T09:12:49.198867Z",
     "start_time": "2024-06-13T09:12:49.190256Z"
    }
   },
   "cell_type": "code",
   "source": [
    "from pvrecorder import PvRecorder\n",
    "\n",
    "for index, device in enumerate(PvRecorder.get_available_devices()):\n",
    "    print(f\"[{index}] {device}\")"
   ],
   "id": "9286d2e68d2f9486",
   "outputs": [
    {
     "name": "stdout",
     "output_type": "stream",
     "text": [
      "[0] 外置麦克风\n",
      "[1] MacBook Pro麦克风\n",
      "[2] LarkAudioDevice\n",
      "[3] “Zilv233”的麦克风\n",
      "[4] Microsoft Teams Audio\n"
     ]
    }
   ],
   "execution_count": 17
  },
  {
   "metadata": {
    "ExecuteTime": {
     "end_time": "2024-06-13T09:17:30.433342Z",
     "start_time": "2024-06-13T09:17:07.196777Z"
    }
   },
   "cell_type": "code",
   "source": [
    "# 用户语音输入\n",
    "recorder = PvRecorder(device_index=-1, frame_length=512)\n",
    "audio = []\n",
    "\n",
    "path = f\"./test.mp3\"\n",
    "\n",
    "try:\n",
    "    recorder.start()\n",
    "\n",
    "    while True:\n",
    "        frame = recorder.read()\n",
    "        audio.extend(frame)\n",
    "except KeyboardInterrupt:\n",
    "    recorder.stop()\n",
    "    with wave.open(path, 'w') as f:\n",
    "        f.setparams((1, 2, 16000, 512, \"NONE\", \"NONE\"))\n",
    "        f.writeframes(struct.pack(\"h\" * len(audio), *audio))\n",
    "finally:\n",
    "    recorder.delete()"
   ],
   "id": "12045fd82f4560db",
   "outputs": [],
   "execution_count": 21
  },
  {
   "metadata": {
    "ExecuteTime": {
     "end_time": "2024-06-13T08:43:08.159541Z",
     "start_time": "2024-06-13T08:43:08.148403Z"
    }
   },
   "cell_type": "code",
   "source": [
    "# cheimu_dev\n",
    "# TODO: 输入用户秘钥\n",
    "os.environ[\"OPENAI_API_KEY\"] = "
   ],
   "id": "f3f3a748d08652ce",
   "outputs": [],
   "execution_count": 12
  },
  {
   "metadata": {
    "ExecuteTime": {
     "end_time": "2024-06-13T09:16:16.590427Z",
     "start_time": "2024-06-13T09:16:16.550232Z"
    }
   },
   "cell_type": "code",
   "source": [
    "from openai import OpenAI\n",
    "client = OpenAI()"
   ],
   "id": "d2a2d62afac5b5d5",
   "outputs": [],
   "execution_count": 19
  },
  {
   "metadata": {
    "ExecuteTime": {
     "end_time": "2024-06-13T09:18:24.509849Z",
     "start_time": "2024-06-13T09:18:20.836755Z"
    }
   },
   "cell_type": "code",
   "source": [
    "# 识别语音\n",
    "audio_file= open(path, \"rb\")\n",
    "translation = client.audio.transcriptions.create(\n",
    "  model=\"whisper-1\", \n",
    "  file=audio_file,\n",
    "  language=\"zh\"\n",
    ")\n",
    "print(translation.text)"
   ],
   "id": "debf2ce4cf10816b",
   "outputs": [
    {
     "name": "stdout",
     "output_type": "stream",
     "text": [
      "现在需要你给出一个场地为20米长20米的咖啡馆环境的设计,要求列出环境内存在哪些物品,物品摆放的坐标和物品,根据其使用环境的缩放系数,以及根据其形态和功能决定的物体朝向,返回数据的格式为一个表格。\n"
     ]
    }
   ],
   "execution_count": 22
  },
  {
   "metadata": {
    "ExecuteTime": {
     "end_time": "2024-06-13T09:19:59.195836Z",
     "start_time": "2024-06-13T09:19:53.749942Z"
    }
   },
   "cell_type": "code",
   "source": [
    "# gpt生成场景\n",
    "gpt_model = \"gpt-3.5-turbo\"\n",
    "\n",
    "completion = client.chat.completions.create(\n",
    "  model=gpt_model,\n",
    "  messages=[\n",
    "    {\"role\": \"system\", \"content\": \"你是一名使用UE5引擎进行关卡开发的游戏内环境设计师，擅长设计游戏内场景的布置，比如各种物品的空间摆放。要求列出环境内存在哪些物品,物品摆放的坐标和物品,根据其使用环境的缩放系数,以及根据其形态和功能决定的物体朝向,返回数据的格式为一个表格。\"},\n",
    "    {\"role\": \"user\", \"content\": translation.text}\n",
    "  ]\n",
    ")\n",
    "\n",
    "print(completion.choices[0].message)"
   ],
   "id": "c0f2458f338a11c0",
   "outputs": [
    {
     "name": "stdout",
     "output_type": "stream",
     "text": [
      "ChatCompletionMessage(content='| 物品 | 坐标 | 缩放系数 | 朝向 |\\n|------|-------|-----------|------|\\n| 圆桌 | (5, 5, 0) | 1 | 朝向北 |\\n| 长沙发 | (10, 15, 0) | 1.2 | 朝向西 |\\n| 咖啡机 | (12, 8, 0) | 0.8 | 朝向东 |\\n| 吧台 | (18, 18, 0) | 1 | 朝向南 |\\n| 植物 | (7, 3, 0) | 0.5 | 朝向西 |\\n| 吊灯 | (5, 15, 3) | 1.5 | 朝向下 |\\n根据场地尺寸20米长20米宽，设计了如上所示的咖啡馆环境。', role='assistant', function_call=None, tool_calls=None)\n"
     ]
    }
   ],
   "execution_count": 24
  },
  {
   "metadata": {},
   "cell_type": "code",
   "outputs": [],
   "execution_count": null,
   "source": "",
   "id": "961f4e29524fb60d"
  }
 ],
 "metadata": {
  "kernelspec": {
   "display_name": "Python 3",
   "language": "python",
   "name": "python3"
  },
  "language_info": {
   "codemirror_mode": {
    "name": "ipython",
    "version": 2
   },
   "file_extension": ".py",
   "mimetype": "text/x-python",
   "name": "python",
   "nbconvert_exporter": "python",
   "pygments_lexer": "ipython2",
   "version": "2.7.6"
  }
 },
 "nbformat": 4,
 "nbformat_minor": 5
}
